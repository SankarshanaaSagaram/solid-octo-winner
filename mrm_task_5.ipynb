{
  "nbformat": 4,
  "nbformat_minor": 0,
  "metadata": {
    "colab": {
      "name": "mrm_task_5.ipynb",
      "provenance": [],
      "authorship_tag": "ABX9TyO2IkLhUJCSt99ZyaVI6sti",
      "include_colab_link": true
    },
    "kernelspec": {
      "name": "python3",
      "display_name": "Python 3"
    },
    "language_info": {
      "name": "python"
    }
  },
  "cells": [
    {
      "cell_type": "markdown",
      "metadata": {
        "id": "view-in-github",
        "colab_type": "text"
      },
      "source": [
        "<a href=\"https://colab.research.google.com/github/SankarshanaaSagaram/solid-octo-winner/blob/main/mrm_task_5.ipynb\" target=\"_parent\"><img src=\"https://colab.research.google.com/assets/colab-badge.svg\" alt=\"Open In Colab\"/></a>"
      ]
    },
    {
      "cell_type": "markdown",
      "source": [
        "# Importing the Dependencies"
      ],
      "metadata": {
        "id": "33p3ygvtIHhd"
      }
    },
    {
      "cell_type": "code",
      "execution_count": 378,
      "metadata": {
        "id": "PEHkBrS-GnW7"
      },
      "outputs": [],
      "source": [
        "import pandas as pd\n",
        "import numpy as np\n",
        "from sklearn.metrics import silhouette_score\n",
        "from scipy.spatial.distance import cdist\n",
        "from sklearn.cluster import KMeans\n",
        "from sklearn.preprocessing import MinMaxScaler\n",
        "from matplotlib import pyplot as plt\n",
        "from sklearn.decomposition import PCA\n",
        "\n"
      ]
    },
    {
      "cell_type": "markdown",
      "source": [
        "#Importing Data and Preprocessing"
      ],
      "metadata": {
        "id": "0OtWC_iPKrHy"
      }
    },
    {
      "cell_type": "code",
      "source": [
        "# loading the data from the csv file to pandas\n",
        "country_dataset = pd.read_csv('/content/Country-data.csv')"
      ],
      "metadata": {
        "id": "2oyviJkZKmec"
      },
      "execution_count": 379,
      "outputs": []
    },
    {
      "cell_type": "code",
      "source": [
        "# inspecting the first 5 rows of our dataset\n",
        "country_dataset.head()"
      ],
      "metadata": {
        "colab": {
          "base_uri": "https://localhost:8080/",
          "height": 206
        },
        "id": "1DYIWxztK_9s",
        "outputId": "f99f349a-198c-4567-b7c3-ca5126529d7c"
      },
      "execution_count": 380,
      "outputs": [
        {
          "output_type": "execute_result",
          "data": {
            "text/html": [
              "\n",
              "  <div id=\"df-d291e999-eb79-4035-a744-3792cdf67ac7\">\n",
              "    <div class=\"colab-df-container\">\n",
              "      <div>\n",
              "<style scoped>\n",
              "    .dataframe tbody tr th:only-of-type {\n",
              "        vertical-align: middle;\n",
              "    }\n",
              "\n",
              "    .dataframe tbody tr th {\n",
              "        vertical-align: top;\n",
              "    }\n",
              "\n",
              "    .dataframe thead th {\n",
              "        text-align: right;\n",
              "    }\n",
              "</style>\n",
              "<table border=\"1\" class=\"dataframe\">\n",
              "  <thead>\n",
              "    <tr style=\"text-align: right;\">\n",
              "      <th></th>\n",
              "      <th>country</th>\n",
              "      <th>child_mort</th>\n",
              "      <th>exports</th>\n",
              "      <th>health</th>\n",
              "      <th>imports</th>\n",
              "      <th>income</th>\n",
              "      <th>inflation</th>\n",
              "      <th>life_expec</th>\n",
              "      <th>total_fer</th>\n",
              "      <th>gdpp</th>\n",
              "    </tr>\n",
              "  </thead>\n",
              "  <tbody>\n",
              "    <tr>\n",
              "      <th>0</th>\n",
              "      <td>Afghanistan</td>\n",
              "      <td>90.2</td>\n",
              "      <td>10.0</td>\n",
              "      <td>7.58</td>\n",
              "      <td>44.9</td>\n",
              "      <td>1610</td>\n",
              "      <td>9.44</td>\n",
              "      <td>56.2</td>\n",
              "      <td>5.82</td>\n",
              "      <td>553</td>\n",
              "    </tr>\n",
              "    <tr>\n",
              "      <th>1</th>\n",
              "      <td>Albania</td>\n",
              "      <td>16.6</td>\n",
              "      <td>28.0</td>\n",
              "      <td>6.55</td>\n",
              "      <td>48.6</td>\n",
              "      <td>9930</td>\n",
              "      <td>4.49</td>\n",
              "      <td>76.3</td>\n",
              "      <td>1.65</td>\n",
              "      <td>4090</td>\n",
              "    </tr>\n",
              "    <tr>\n",
              "      <th>2</th>\n",
              "      <td>Algeria</td>\n",
              "      <td>27.3</td>\n",
              "      <td>38.4</td>\n",
              "      <td>4.17</td>\n",
              "      <td>31.4</td>\n",
              "      <td>12900</td>\n",
              "      <td>16.10</td>\n",
              "      <td>76.5</td>\n",
              "      <td>2.89</td>\n",
              "      <td>4460</td>\n",
              "    </tr>\n",
              "    <tr>\n",
              "      <th>3</th>\n",
              "      <td>Angola</td>\n",
              "      <td>119.0</td>\n",
              "      <td>62.3</td>\n",
              "      <td>2.85</td>\n",
              "      <td>42.9</td>\n",
              "      <td>5900</td>\n",
              "      <td>22.40</td>\n",
              "      <td>60.1</td>\n",
              "      <td>6.16</td>\n",
              "      <td>3530</td>\n",
              "    </tr>\n",
              "    <tr>\n",
              "      <th>4</th>\n",
              "      <td>Antigua and Barbuda</td>\n",
              "      <td>10.3</td>\n",
              "      <td>45.5</td>\n",
              "      <td>6.03</td>\n",
              "      <td>58.9</td>\n",
              "      <td>19100</td>\n",
              "      <td>1.44</td>\n",
              "      <td>76.8</td>\n",
              "      <td>2.13</td>\n",
              "      <td>12200</td>\n",
              "    </tr>\n",
              "  </tbody>\n",
              "</table>\n",
              "</div>\n",
              "      <button class=\"colab-df-convert\" onclick=\"convertToInteractive('df-d291e999-eb79-4035-a744-3792cdf67ac7')\"\n",
              "              title=\"Convert this dataframe to an interactive table.\"\n",
              "              style=\"display:none;\">\n",
              "        \n",
              "  <svg xmlns=\"http://www.w3.org/2000/svg\" height=\"24px\"viewBox=\"0 0 24 24\"\n",
              "       width=\"24px\">\n",
              "    <path d=\"M0 0h24v24H0V0z\" fill=\"none\"/>\n",
              "    <path d=\"M18.56 5.44l.94 2.06.94-2.06 2.06-.94-2.06-.94-.94-2.06-.94 2.06-2.06.94zm-11 1L8.5 8.5l.94-2.06 2.06-.94-2.06-.94L8.5 2.5l-.94 2.06-2.06.94zm10 10l.94 2.06.94-2.06 2.06-.94-2.06-.94-.94-2.06-.94 2.06-2.06.94z\"/><path d=\"M17.41 7.96l-1.37-1.37c-.4-.4-.92-.59-1.43-.59-.52 0-1.04.2-1.43.59L10.3 9.45l-7.72 7.72c-.78.78-.78 2.05 0 2.83L4 21.41c.39.39.9.59 1.41.59.51 0 1.02-.2 1.41-.59l7.78-7.78 2.81-2.81c.8-.78.8-2.07 0-2.86zM5.41 20L4 18.59l7.72-7.72 1.47 1.35L5.41 20z\"/>\n",
              "  </svg>\n",
              "      </button>\n",
              "      \n",
              "  <style>\n",
              "    .colab-df-container {\n",
              "      display:flex;\n",
              "      flex-wrap:wrap;\n",
              "      gap: 12px;\n",
              "    }\n",
              "\n",
              "    .colab-df-convert {\n",
              "      background-color: #E8F0FE;\n",
              "      border: none;\n",
              "      border-radius: 50%;\n",
              "      cursor: pointer;\n",
              "      display: none;\n",
              "      fill: #1967D2;\n",
              "      height: 32px;\n",
              "      padding: 0 0 0 0;\n",
              "      width: 32px;\n",
              "    }\n",
              "\n",
              "    .colab-df-convert:hover {\n",
              "      background-color: #E2EBFA;\n",
              "      box-shadow: 0px 1px 2px rgba(60, 64, 67, 0.3), 0px 1px 3px 1px rgba(60, 64, 67, 0.15);\n",
              "      fill: #174EA6;\n",
              "    }\n",
              "\n",
              "    [theme=dark] .colab-df-convert {\n",
              "      background-color: #3B4455;\n",
              "      fill: #D2E3FC;\n",
              "    }\n",
              "\n",
              "    [theme=dark] .colab-df-convert:hover {\n",
              "      background-color: #434B5C;\n",
              "      box-shadow: 0px 1px 3px 1px rgba(0, 0, 0, 0.15);\n",
              "      filter: drop-shadow(0px 1px 2px rgba(0, 0, 0, 0.3));\n",
              "      fill: #FFFFFF;\n",
              "    }\n",
              "  </style>\n",
              "\n",
              "      <script>\n",
              "        const buttonEl =\n",
              "          document.querySelector('#df-d291e999-eb79-4035-a744-3792cdf67ac7 button.colab-df-convert');\n",
              "        buttonEl.style.display =\n",
              "          google.colab.kernel.accessAllowed ? 'block' : 'none';\n",
              "\n",
              "        async function convertToInteractive(key) {\n",
              "          const element = document.querySelector('#df-d291e999-eb79-4035-a744-3792cdf67ac7');\n",
              "          const dataTable =\n",
              "            await google.colab.kernel.invokeFunction('convertToInteractive',\n",
              "                                                     [key], {});\n",
              "          if (!dataTable) return;\n",
              "\n",
              "          const docLinkHtml = 'Like what you see? Visit the ' +\n",
              "            '<a target=\"_blank\" href=https://colab.research.google.com/notebooks/data_table.ipynb>data table notebook</a>'\n",
              "            + ' to learn more about interactive tables.';\n",
              "          element.innerHTML = '';\n",
              "          dataTable['output_type'] = 'display_data';\n",
              "          await google.colab.output.renderOutput(dataTable, element);\n",
              "          const docLink = document.createElement('div');\n",
              "          docLink.innerHTML = docLinkHtml;\n",
              "          element.appendChild(docLink);\n",
              "        }\n",
              "      </script>\n",
              "    </div>\n",
              "  </div>\n",
              "  "
            ],
            "text/plain": [
              "               country  child_mort  exports  ...  life_expec  total_fer   gdpp\n",
              "0          Afghanistan        90.2     10.0  ...        56.2       5.82    553\n",
              "1              Albania        16.6     28.0  ...        76.3       1.65   4090\n",
              "2              Algeria        27.3     38.4  ...        76.5       2.89   4460\n",
              "3               Angola       119.0     62.3  ...        60.1       6.16   3530\n",
              "4  Antigua and Barbuda        10.3     45.5  ...        76.8       2.13  12200\n",
              "\n",
              "[5 rows x 10 columns]"
            ]
          },
          "metadata": {},
          "execution_count": 380
        }
      ]
    },
    {
      "cell_type": "code",
      "source": [
        "# checking the number of rows and columns\n",
        "country_dataset.shape"
      ],
      "metadata": {
        "colab": {
          "base_uri": "https://localhost:8080/"
        },
        "id": "crCectoSMbuK",
        "outputId": "2991bf60-35c9-44da-e9f8-6c664a83a06a"
      },
      "execution_count": 381,
      "outputs": [
        {
          "output_type": "execute_result",
          "data": {
            "text/plain": [
              "(167, 10)"
            ]
          },
          "metadata": {},
          "execution_count": 381
        }
      ]
    },
    {
      "cell_type": "code",
      "source": [
        "# getting further information about the given data\n",
        "country_dataset.info()"
      ],
      "metadata": {
        "colab": {
          "base_uri": "https://localhost:8080/"
        },
        "id": "T1r0dQhkMeRs",
        "outputId": "4c46c518-6255-44fd-a673-58df07c85f14"
      },
      "execution_count": 382,
      "outputs": [
        {
          "output_type": "stream",
          "name": "stdout",
          "text": [
            "<class 'pandas.core.frame.DataFrame'>\n",
            "RangeIndex: 167 entries, 0 to 166\n",
            "Data columns (total 10 columns):\n",
            " #   Column      Non-Null Count  Dtype  \n",
            "---  ------      --------------  -----  \n",
            " 0   country     167 non-null    object \n",
            " 1   child_mort  167 non-null    float64\n",
            " 2   exports     167 non-null    float64\n",
            " 3   health      167 non-null    float64\n",
            " 4   imports     167 non-null    float64\n",
            " 5   income      167 non-null    int64  \n",
            " 6   inflation   167 non-null    float64\n",
            " 7   life_expec  167 non-null    float64\n",
            " 8   total_fer   167 non-null    float64\n",
            " 9   gdpp        167 non-null    int64  \n",
            "dtypes: float64(7), int64(2), object(1)\n",
            "memory usage: 13.2+ KB\n"
          ]
        }
      ]
    },
    {
      "cell_type": "code",
      "source": [
        "# checking the number of missing values\n",
        "country_dataset.isnull().sum()\n"
      ],
      "metadata": {
        "colab": {
          "base_uri": "https://localhost:8080/"
        },
        "id": "7RXlOlRHMl7k",
        "outputId": "2e7da157-9097-42e3-d544-023e0a682ee2"
      },
      "execution_count": 383,
      "outputs": [
        {
          "output_type": "execute_result",
          "data": {
            "text/plain": [
              "country       0\n",
              "child_mort    0\n",
              "exports       0\n",
              "health        0\n",
              "imports       0\n",
              "income        0\n",
              "inflation     0\n",
              "life_expec    0\n",
              "total_fer     0\n",
              "gdpp          0\n",
              "dtype: int64"
            ]
          },
          "metadata": {},
          "execution_count": 383
        }
      ]
    },
    {
      "cell_type": "code",
      "source": [
        "country_dataset.drop([\"country\"], axis = 1, inplace = True)"
      ],
      "metadata": {
        "id": "obSgLUfXU8LO"
      },
      "execution_count": 384,
      "outputs": []
    },
    {
      "cell_type": "code",
      "source": [
        "country_dataset"
      ],
      "metadata": {
        "colab": {
          "base_uri": "https://localhost:8080/",
          "height": 424
        },
        "id": "jgdOPWw4WTWH",
        "outputId": "5913a160-470d-4ea5-d3a2-3b25773c9902"
      },
      "execution_count": 385,
      "outputs": [
        {
          "output_type": "execute_result",
          "data": {
            "text/html": [
              "\n",
              "  <div id=\"df-eb1477ed-39bb-4567-9898-d09508735198\">\n",
              "    <div class=\"colab-df-container\">\n",
              "      <div>\n",
              "<style scoped>\n",
              "    .dataframe tbody tr th:only-of-type {\n",
              "        vertical-align: middle;\n",
              "    }\n",
              "\n",
              "    .dataframe tbody tr th {\n",
              "        vertical-align: top;\n",
              "    }\n",
              "\n",
              "    .dataframe thead th {\n",
              "        text-align: right;\n",
              "    }\n",
              "</style>\n",
              "<table border=\"1\" class=\"dataframe\">\n",
              "  <thead>\n",
              "    <tr style=\"text-align: right;\">\n",
              "      <th></th>\n",
              "      <th>child_mort</th>\n",
              "      <th>exports</th>\n",
              "      <th>health</th>\n",
              "      <th>imports</th>\n",
              "      <th>income</th>\n",
              "      <th>inflation</th>\n",
              "      <th>life_expec</th>\n",
              "      <th>total_fer</th>\n",
              "      <th>gdpp</th>\n",
              "    </tr>\n",
              "  </thead>\n",
              "  <tbody>\n",
              "    <tr>\n",
              "      <th>0</th>\n",
              "      <td>90.2</td>\n",
              "      <td>10.0</td>\n",
              "      <td>7.58</td>\n",
              "      <td>44.9</td>\n",
              "      <td>1610</td>\n",
              "      <td>9.44</td>\n",
              "      <td>56.2</td>\n",
              "      <td>5.82</td>\n",
              "      <td>553</td>\n",
              "    </tr>\n",
              "    <tr>\n",
              "      <th>1</th>\n",
              "      <td>16.6</td>\n",
              "      <td>28.0</td>\n",
              "      <td>6.55</td>\n",
              "      <td>48.6</td>\n",
              "      <td>9930</td>\n",
              "      <td>4.49</td>\n",
              "      <td>76.3</td>\n",
              "      <td>1.65</td>\n",
              "      <td>4090</td>\n",
              "    </tr>\n",
              "    <tr>\n",
              "      <th>2</th>\n",
              "      <td>27.3</td>\n",
              "      <td>38.4</td>\n",
              "      <td>4.17</td>\n",
              "      <td>31.4</td>\n",
              "      <td>12900</td>\n",
              "      <td>16.10</td>\n",
              "      <td>76.5</td>\n",
              "      <td>2.89</td>\n",
              "      <td>4460</td>\n",
              "    </tr>\n",
              "    <tr>\n",
              "      <th>3</th>\n",
              "      <td>119.0</td>\n",
              "      <td>62.3</td>\n",
              "      <td>2.85</td>\n",
              "      <td>42.9</td>\n",
              "      <td>5900</td>\n",
              "      <td>22.40</td>\n",
              "      <td>60.1</td>\n",
              "      <td>6.16</td>\n",
              "      <td>3530</td>\n",
              "    </tr>\n",
              "    <tr>\n",
              "      <th>4</th>\n",
              "      <td>10.3</td>\n",
              "      <td>45.5</td>\n",
              "      <td>6.03</td>\n",
              "      <td>58.9</td>\n",
              "      <td>19100</td>\n",
              "      <td>1.44</td>\n",
              "      <td>76.8</td>\n",
              "      <td>2.13</td>\n",
              "      <td>12200</td>\n",
              "    </tr>\n",
              "    <tr>\n",
              "      <th>...</th>\n",
              "      <td>...</td>\n",
              "      <td>...</td>\n",
              "      <td>...</td>\n",
              "      <td>...</td>\n",
              "      <td>...</td>\n",
              "      <td>...</td>\n",
              "      <td>...</td>\n",
              "      <td>...</td>\n",
              "      <td>...</td>\n",
              "    </tr>\n",
              "    <tr>\n",
              "      <th>162</th>\n",
              "      <td>29.2</td>\n",
              "      <td>46.6</td>\n",
              "      <td>5.25</td>\n",
              "      <td>52.7</td>\n",
              "      <td>2950</td>\n",
              "      <td>2.62</td>\n",
              "      <td>63.0</td>\n",
              "      <td>3.50</td>\n",
              "      <td>2970</td>\n",
              "    </tr>\n",
              "    <tr>\n",
              "      <th>163</th>\n",
              "      <td>17.1</td>\n",
              "      <td>28.5</td>\n",
              "      <td>4.91</td>\n",
              "      <td>17.6</td>\n",
              "      <td>16500</td>\n",
              "      <td>45.90</td>\n",
              "      <td>75.4</td>\n",
              "      <td>2.47</td>\n",
              "      <td>13500</td>\n",
              "    </tr>\n",
              "    <tr>\n",
              "      <th>164</th>\n",
              "      <td>23.3</td>\n",
              "      <td>72.0</td>\n",
              "      <td>6.84</td>\n",
              "      <td>80.2</td>\n",
              "      <td>4490</td>\n",
              "      <td>12.10</td>\n",
              "      <td>73.1</td>\n",
              "      <td>1.95</td>\n",
              "      <td>1310</td>\n",
              "    </tr>\n",
              "    <tr>\n",
              "      <th>165</th>\n",
              "      <td>56.3</td>\n",
              "      <td>30.0</td>\n",
              "      <td>5.18</td>\n",
              "      <td>34.4</td>\n",
              "      <td>4480</td>\n",
              "      <td>23.60</td>\n",
              "      <td>67.5</td>\n",
              "      <td>4.67</td>\n",
              "      <td>1310</td>\n",
              "    </tr>\n",
              "    <tr>\n",
              "      <th>166</th>\n",
              "      <td>83.1</td>\n",
              "      <td>37.0</td>\n",
              "      <td>5.89</td>\n",
              "      <td>30.9</td>\n",
              "      <td>3280</td>\n",
              "      <td>14.00</td>\n",
              "      <td>52.0</td>\n",
              "      <td>5.40</td>\n",
              "      <td>1460</td>\n",
              "    </tr>\n",
              "  </tbody>\n",
              "</table>\n",
              "<p>167 rows × 9 columns</p>\n",
              "</div>\n",
              "      <button class=\"colab-df-convert\" onclick=\"convertToInteractive('df-eb1477ed-39bb-4567-9898-d09508735198')\"\n",
              "              title=\"Convert this dataframe to an interactive table.\"\n",
              "              style=\"display:none;\">\n",
              "        \n",
              "  <svg xmlns=\"http://www.w3.org/2000/svg\" height=\"24px\"viewBox=\"0 0 24 24\"\n",
              "       width=\"24px\">\n",
              "    <path d=\"M0 0h24v24H0V0z\" fill=\"none\"/>\n",
              "    <path d=\"M18.56 5.44l.94 2.06.94-2.06 2.06-.94-2.06-.94-.94-2.06-.94 2.06-2.06.94zm-11 1L8.5 8.5l.94-2.06 2.06-.94-2.06-.94L8.5 2.5l-.94 2.06-2.06.94zm10 10l.94 2.06.94-2.06 2.06-.94-2.06-.94-.94-2.06-.94 2.06-2.06.94z\"/><path d=\"M17.41 7.96l-1.37-1.37c-.4-.4-.92-.59-1.43-.59-.52 0-1.04.2-1.43.59L10.3 9.45l-7.72 7.72c-.78.78-.78 2.05 0 2.83L4 21.41c.39.39.9.59 1.41.59.51 0 1.02-.2 1.41-.59l7.78-7.78 2.81-2.81c.8-.78.8-2.07 0-2.86zM5.41 20L4 18.59l7.72-7.72 1.47 1.35L5.41 20z\"/>\n",
              "  </svg>\n",
              "      </button>\n",
              "      \n",
              "  <style>\n",
              "    .colab-df-container {\n",
              "      display:flex;\n",
              "      flex-wrap:wrap;\n",
              "      gap: 12px;\n",
              "    }\n",
              "\n",
              "    .colab-df-convert {\n",
              "      background-color: #E8F0FE;\n",
              "      border: none;\n",
              "      border-radius: 50%;\n",
              "      cursor: pointer;\n",
              "      display: none;\n",
              "      fill: #1967D2;\n",
              "      height: 32px;\n",
              "      padding: 0 0 0 0;\n",
              "      width: 32px;\n",
              "    }\n",
              "\n",
              "    .colab-df-convert:hover {\n",
              "      background-color: #E2EBFA;\n",
              "      box-shadow: 0px 1px 2px rgba(60, 64, 67, 0.3), 0px 1px 3px 1px rgba(60, 64, 67, 0.15);\n",
              "      fill: #174EA6;\n",
              "    }\n",
              "\n",
              "    [theme=dark] .colab-df-convert {\n",
              "      background-color: #3B4455;\n",
              "      fill: #D2E3FC;\n",
              "    }\n",
              "\n",
              "    [theme=dark] .colab-df-convert:hover {\n",
              "      background-color: #434B5C;\n",
              "      box-shadow: 0px 1px 3px 1px rgba(0, 0, 0, 0.15);\n",
              "      filter: drop-shadow(0px 1px 2px rgba(0, 0, 0, 0.3));\n",
              "      fill: #FFFFFF;\n",
              "    }\n",
              "  </style>\n",
              "\n",
              "      <script>\n",
              "        const buttonEl =\n",
              "          document.querySelector('#df-eb1477ed-39bb-4567-9898-d09508735198 button.colab-df-convert');\n",
              "        buttonEl.style.display =\n",
              "          google.colab.kernel.accessAllowed ? 'block' : 'none';\n",
              "\n",
              "        async function convertToInteractive(key) {\n",
              "          const element = document.querySelector('#df-eb1477ed-39bb-4567-9898-d09508735198');\n",
              "          const dataTable =\n",
              "            await google.colab.kernel.invokeFunction('convertToInteractive',\n",
              "                                                     [key], {});\n",
              "          if (!dataTable) return;\n",
              "\n",
              "          const docLinkHtml = 'Like what you see? Visit the ' +\n",
              "            '<a target=\"_blank\" href=https://colab.research.google.com/notebooks/data_table.ipynb>data table notebook</a>'\n",
              "            + ' to learn more about interactive tables.';\n",
              "          element.innerHTML = '';\n",
              "          dataTable['output_type'] = 'display_data';\n",
              "          await google.colab.output.renderOutput(dataTable, element);\n",
              "          const docLink = document.createElement('div');\n",
              "          docLink.innerHTML = docLinkHtml;\n",
              "          element.appendChild(docLink);\n",
              "        }\n",
              "      </script>\n",
              "    </div>\n",
              "  </div>\n",
              "  "
            ],
            "text/plain": [
              "     child_mort  exports  health  ...  life_expec  total_fer   gdpp\n",
              "0          90.2     10.0    7.58  ...        56.2       5.82    553\n",
              "1          16.6     28.0    6.55  ...        76.3       1.65   4090\n",
              "2          27.3     38.4    4.17  ...        76.5       2.89   4460\n",
              "3         119.0     62.3    2.85  ...        60.1       6.16   3530\n",
              "4          10.3     45.5    6.03  ...        76.8       2.13  12200\n",
              "..          ...      ...     ...  ...         ...        ...    ...\n",
              "162        29.2     46.6    5.25  ...        63.0       3.50   2970\n",
              "163        17.1     28.5    4.91  ...        75.4       2.47  13500\n",
              "164        23.3     72.0    6.84  ...        73.1       1.95   1310\n",
              "165        56.3     30.0    5.18  ...        67.5       4.67   1310\n",
              "166        83.1     37.0    5.89  ...        52.0       5.40   1460\n",
              "\n",
              "[167 rows x 9 columns]"
            ]
          },
          "metadata": {},
          "execution_count": 385
        }
      ]
    },
    {
      "cell_type": "markdown",
      "source": [
        "Even though we can see that the raw data is clear and nothing is missing, preprocessing is necessary"
      ],
      "metadata": {
        "id": "6T-HzorfvV3w"
      }
    },
    {
      "cell_type": "markdown",
      "source": [
        "# Implementing Principal Component Analysis to reduce dimensionality in the dataset"
      ],
      "metadata": {
        "id": "4kiqDp5WPu8E"
      }
    },
    {
      "cell_type": "code",
      "source": [
        " #scaling and transforming the dataset\n",
        " scaler = MinMaxScaler()\n",
        " scaler.fit(country_dataset)"
      ],
      "metadata": {
        "colab": {
          "base_uri": "https://localhost:8080/"
        },
        "id": "wHkFwcIyPyNV",
        "outputId": "2c3e1e3a-2c41-4e2c-8faa-18d1a9748c67"
      },
      "execution_count": 386,
      "outputs": [
        {
          "output_type": "execute_result",
          "data": {
            "text/plain": [
              "MinMaxScaler()"
            ]
          },
          "metadata": {},
          "execution_count": 386
        }
      ]
    },
    {
      "cell_type": "code",
      "source": [
        "scaled_data = scaler.transform(country_dataset)"
      ],
      "metadata": {
        "id": "aguwvPJbWbSK"
      },
      "execution_count": 387,
      "outputs": []
    },
    {
      "cell_type": "code",
      "source": [
        "scaled_data\n"
      ],
      "metadata": {
        "colab": {
          "base_uri": "https://localhost:8080/"
        },
        "id": "lzK5NWpyWo4_",
        "outputId": "9a180c81-45b6-4f7b-f21d-ce66d28adbbb"
      },
      "execution_count": 388,
      "outputs": [
        {
          "output_type": "execute_result",
          "data": {
            "text/plain": [
              "array([[0.42648491, 0.04948197, 0.35860783, ..., 0.47534517, 0.73659306,\n",
              "        0.00307343],\n",
              "       [0.06815969, 0.13953104, 0.29459291, ..., 0.87179487, 0.07886435,\n",
              "        0.03683341],\n",
              "       [0.12025316, 0.1915594 , 0.14667495, ..., 0.87573964, 0.27444795,\n",
              "        0.04036499],\n",
              "       ...,\n",
              "       [0.10077897, 0.35965101, 0.31261653, ..., 0.8086785 , 0.12618297,\n",
              "        0.01029885],\n",
              "       [0.26144109, 0.1495365 , 0.20944686, ..., 0.69822485, 0.55520505,\n",
              "        0.01029885],\n",
              "       [0.39191821, 0.18455558, 0.25357365, ..., 0.39250493, 0.670347  ,\n",
              "        0.01173057]])"
            ]
          },
          "metadata": {},
          "execution_count": 388
        }
      ]
    },
    {
      "cell_type": "code",
      "source": [
        "pca = PCA(n_components=2)"
      ],
      "metadata": {
        "id": "lX6pNO_pW4UN"
      },
      "execution_count": 389,
      "outputs": []
    },
    {
      "cell_type": "code",
      "source": [
        "pca.fit(scaled_data)"
      ],
      "metadata": {
        "colab": {
          "base_uri": "https://localhost:8080/"
        },
        "id": "0SFbj3dQXCa2",
        "outputId": "f696b58b-91c7-4afd-9955-e112675916ca"
      },
      "execution_count": 390,
      "outputs": [
        {
          "output_type": "execute_result",
          "data": {
            "text/plain": [
              "PCA(n_components=2)"
            ]
          },
          "metadata": {},
          "execution_count": 390
        }
      ]
    },
    {
      "cell_type": "code",
      "source": [
        "x_pca = pca.transform(scaled_data)"
      ],
      "metadata": {
        "id": "KafkMvpRXNqZ"
      },
      "execution_count": 391,
      "outputs": []
    },
    {
      "cell_type": "code",
      "source": [
        "scaled_data.shape"
      ],
      "metadata": {
        "colab": {
          "base_uri": "https://localhost:8080/"
        },
        "id": "hbhm5QFRXVuB",
        "outputId": "bcf50b29-0961-4b6d-f22d-ee16831e638a"
      },
      "execution_count": 392,
      "outputs": [
        {
          "output_type": "execute_result",
          "data": {
            "text/plain": [
              "(167, 9)"
            ]
          },
          "metadata": {},
          "execution_count": 392
        }
      ]
    },
    {
      "cell_type": "code",
      "source": [
        "#we can see that data has been scaled down to 2 features\n",
        "x_pca.shape"
      ],
      "metadata": {
        "colab": {
          "base_uri": "https://localhost:8080/"
        },
        "id": "ONM3BflMXcEA",
        "outputId": "efbc8915-eb41-4580-92bc-fba8e28458a4"
      },
      "execution_count": 393,
      "outputs": [
        {
          "output_type": "execute_result",
          "data": {
            "text/plain": [
              "(167, 2)"
            ]
          },
          "metadata": {},
          "execution_count": 393
        }
      ]
    },
    {
      "cell_type": "code",
      "source": [
        "scaled_data"
      ],
      "metadata": {
        "colab": {
          "base_uri": "https://localhost:8080/"
        },
        "id": "YIqjvVwWXghE",
        "outputId": "178230fa-b728-4e4b-ba64-b3d1d650874d"
      },
      "execution_count": 394,
      "outputs": [
        {
          "output_type": "execute_result",
          "data": {
            "text/plain": [
              "array([[0.42648491, 0.04948197, 0.35860783, ..., 0.47534517, 0.73659306,\n",
              "        0.00307343],\n",
              "       [0.06815969, 0.13953104, 0.29459291, ..., 0.87179487, 0.07886435,\n",
              "        0.03683341],\n",
              "       [0.12025316, 0.1915594 , 0.14667495, ..., 0.87573964, 0.27444795,\n",
              "        0.04036499],\n",
              "       ...,\n",
              "       [0.10077897, 0.35965101, 0.31261653, ..., 0.8086785 , 0.12618297,\n",
              "        0.01029885],\n",
              "       [0.26144109, 0.1495365 , 0.20944686, ..., 0.69822485, 0.55520505,\n",
              "        0.01029885],\n",
              "       [0.39191821, 0.18455558, 0.25357365, ..., 0.39250493, 0.670347  ,\n",
              "        0.01173057]])"
            ]
          },
          "metadata": {},
          "execution_count": 394
        }
      ]
    },
    {
      "cell_type": "code",
      "source": [
        "x_pca"
      ],
      "metadata": {
        "colab": {
          "base_uri": "https://localhost:8080/"
        },
        "id": "n1qjgob1XmVb",
        "outputId": "ea6fb000-90b7-475f-e05f-d62852625bab"
      },
      "execution_count": 395,
      "outputs": [
        {
          "output_type": "execute_result",
          "data": {
            "text/plain": [
              "array([[-0.59907764,  0.09549001],\n",
              "       [ 0.1584743 , -0.2120924 ],\n",
              "       [ 0.00368552, -0.13586725],\n",
              "       [-0.65023499,  0.27597526],\n",
              "       [ 0.20071124, -0.06466223],\n",
              "       [ 0.112534  , -0.20604633],\n",
              "       [ 0.08748612, -0.24430696],\n",
              "       [ 0.44078359,  0.01628159],\n",
              "       [ 0.52052639,  0.11505267],\n",
              "       [ 0.03880915, -0.12198813],\n",
              "       [ 0.25330504, -0.03709248],\n",
              "       [ 0.28004875,  0.08194452],\n",
              "       [-0.10721304, -0.24817007],\n",
              "       [ 0.23240595, -0.10625665],\n",
              "       [ 0.18238383, -0.10352266],\n",
              "       [ 0.49552529,  0.24168217],\n",
              "       [ 0.0343959 , -0.05258709],\n",
              "       [-0.57211533,  0.08891622],\n",
              "       [-0.0072184 , -0.06228781],\n",
              "       [-0.12086723, -0.09859734],\n",
              "       [ 0.25999884, -0.22215393],\n",
              "       [-0.15372061,  0.02940304],\n",
              "       [ 0.13962489, -0.26315962],\n",
              "       [ 0.42041602,  0.19485164],\n",
              "       [ 0.20775216, -0.12550836],\n",
              "       [-0.65389251,  0.11320578],\n",
              "       [-0.60975439,  0.11313395],\n",
              "       [-0.1091356 , -0.03051148],\n",
              "       [-0.57452028,  0.06366481],\n",
              "       [ 0.47654775,  0.03076988],\n",
              "       [-0.00755443, -0.11152783],\n",
              "       [-0.78583166,  0.11402572],\n",
              "       [-0.80348389,  0.27514762],\n",
              "       [ 0.23936518, -0.15904187],\n",
              "       [ 0.12443896, -0.27840828],\n",
              "       [ 0.11600645, -0.27086059],\n",
              "       [-0.42968059,  0.02662774],\n",
              "       [-0.69396194,  0.24903669],\n",
              "       [-0.39213843,  0.20213518],\n",
              "       [ 0.23640676, -0.19429507],\n",
              "       [-0.57396916,  0.18316482],\n",
              "       [ 0.26501444, -0.15530617],\n",
              "       [ 0.40488014,  0.0166484 ],\n",
              "       [ 0.3626856 ,  0.01439448],\n",
              "       [ 0.51053998,  0.18525831],\n",
              "       [ 0.00957369, -0.16573423],\n",
              "       [ 0.05395995, -0.17481199],\n",
              "       [-0.09865431, -0.16734251],\n",
              "       [ 0.07092179, -0.18607666],\n",
              "       [-0.3879884 ,  0.4551465 ],\n",
              "       [-0.42124557, -0.11361268],\n",
              "       [ 0.29067168,  0.01959344],\n",
              "       [-0.03110778, -0.02337296],\n",
              "       [ 0.4377602 ,  0.06678322],\n",
              "       [ 0.41641464, -0.00163519],\n",
              "       [-0.2761303 ,  0.06273829],\n",
              "       [-0.48973169,  0.07255935],\n",
              "       [ 0.12798264, -0.16692749],\n",
              "       [ 0.4909651 ,  0.03720798],\n",
              "       [-0.37608886,  0.01699088],\n",
              "       [ 0.37809965, -0.1297784 ],\n",
              "       [ 0.0764415 , -0.15817236],\n",
              "       [-0.10013497, -0.12037732],\n",
              "       [-0.59621744,  0.12361252],\n",
              "       [-0.57792482,  0.07626721],\n",
              "       [-0.05987287,  0.0066852 ],\n",
              "       [-0.83638627,  0.23301512],\n",
              "       [ 0.33096358,  0.02713871],\n",
              "       [ 0.42407758,  0.10609822],\n",
              "       [-0.1703783 , -0.17020479],\n",
              "       [-0.07200362, -0.21190124],\n",
              "       [ 0.11973   , -0.23911594],\n",
              "       [-0.20952203,  0.01949573],\n",
              "       [ 0.52744601,  0.37048889],\n",
              "       [ 0.24823306,  0.00618085],\n",
              "       [ 0.43257448, -0.07232825],\n",
              "       [ 0.07650105, -0.1739251 ],\n",
              "       [ 0.46335846, -0.0969699 ],\n",
              "       [-0.00356003,  0.0068358 ],\n",
              "       [ 0.0111996 , -0.08396437],\n",
              "       [-0.35904274, -0.04891148],\n",
              "       [-0.25965539,  0.03234199],\n",
              "       [ 0.39577582,  0.21412017],\n",
              "       [-0.06689229,  0.00256237],\n",
              "       [-0.26355172, -0.02508409],\n",
              "       [ 0.25274438, -0.09723042],\n",
              "       [ 0.25638487, -0.14427862],\n",
              "       [-0.3857155 ,  0.19898338],\n",
              "       [-0.42126706,  0.17229868],\n",
              "       [ 0.16163537, -0.00142676],\n",
              "       [ 0.27003869, -0.02394002],\n",
              "       [ 0.94129399,  1.03690316],\n",
              "       [ 0.19607232, -0.16740658],\n",
              "       [-0.40635682, -0.00761719],\n",
              "       [-0.58546897,  0.07673092],\n",
              "       [ 0.20279802,  0.05118051],\n",
              "       [ 0.18814022, -0.01849877],\n",
              "       [-0.75608362,  0.19534715],\n",
              "       [ 0.51474571,  0.42028424],\n",
              "       [-0.42601228,  0.15544577],\n",
              "       [ 0.19700164, -0.09038833],\n",
              "       [-0.09390393,  0.01207944],\n",
              "       [ 0.17482099, -0.13817943],\n",
              "       [-0.06437252, -0.06933816],\n",
              "       [ 0.22757153, -0.13372024],\n",
              "       [-0.00782979, -0.15079617],\n",
              "       [-0.61627757,  0.14352233],\n",
              "       [-0.21172988, -0.2986136 ],\n",
              "       [-0.23024123,  0.07804855],\n",
              "       [-0.13663046, -0.2089015 ],\n",
              "       [ 0.53940998,  0.24472403],\n",
              "       [ 0.34716648, -0.03276602],\n",
              "       [-0.80881847,  0.25857831],\n",
              "       [-0.74072288,  0.124206  ],\n",
              "       [ 0.62474828,  0.31473099],\n",
              "       [ 0.18014261,  0.0992515 ],\n",
              "       [-0.39732988, -0.0949623 ],\n",
              "       [ 0.16685379,  0.04995774],\n",
              "       [ 0.03373965, -0.07749539],\n",
              "       [ 0.06103863, -0.21596521],\n",
              "       [-0.11467802, -0.12580071],\n",
              "       [ 0.27858379, -0.14727614],\n",
              "       [ 0.37896253, -0.12293032],\n",
              "       [ 0.63867287,  0.47893856],\n",
              "       [ 0.17896186, -0.18527559],\n",
              "       [ 0.14392968, -0.19743645],\n",
              "       [-0.32574346, -0.06180107],\n",
              "       [-0.13750602, -0.04406489],\n",
              "       [ 0.15119101,  0.05927879],\n",
              "       [-0.40805634,  0.0210165 ],\n",
              "       [ 0.23444951, -0.19917173],\n",
              "       [ 0.20499347,  0.16723747],\n",
              "       [-0.67602199,  0.16386377],\n",
              "       [ 0.76682822,  0.79646699],\n",
              "       [ 0.34875376,  0.05578673],\n",
              "       [ 0.39786602,  0.03010608],\n",
              "       [-0.2035515 ,  0.08402393],\n",
              "       [-0.17039397, -0.06562958],\n",
              "       [ 0.38683718, -0.07002892],\n",
              "       [ 0.41748839, -0.11376678],\n",
              "       [ 0.03586661, -0.27186493],\n",
              "       [ 0.06481524, -0.14862156],\n",
              "       [-0.41545882, -0.03901357],\n",
              "       [ 0.05478633, -0.06654157],\n",
              "       [ 0.48006929,  0.13286984],\n",
              "       [ 0.66475619,  0.32474042],\n",
              "       [-0.19553567, -0.08675241],\n",
              "       [-0.50702892,  0.02166023],\n",
              "       [ 0.20256841, -0.09480521],\n",
              "       [-0.45369894,  0.00276048],\n",
              "       [-0.45534359,  0.13084639],\n",
              "       [-0.13345911, -0.09453804],\n",
              "       [ 0.13881162, -0.11554704],\n",
              "       [ 0.14686767, -0.19803882],\n",
              "       [-0.11434335,  0.03560218],\n",
              "       [-0.59316543,  0.08399249],\n",
              "       [ 0.15093361, -0.17362957],\n",
              "       [ 0.3951364 ,  0.22655271],\n",
              "       [ 0.39089491, -0.01055818],\n",
              "       [ 0.48361207,  0.03529668],\n",
              "       [ 0.17969874, -0.1883336 ],\n",
              "       [-0.05658193, -0.1945031 ],\n",
              "       [-0.16007838, -0.02962472],\n",
              "       [ 0.06113319, -0.17133916],\n",
              "       [ 0.11551228, -0.03203381],\n",
              "       [-0.33296825, -0.0198243 ],\n",
              "       [-0.57389669,  0.10878814]])"
            ]
          },
          "metadata": {},
          "execution_count": 395
        }
      ]
    },
    {
      "cell_type": "markdown",
      "source": [
        "# KMeans Clustering to Group the New Data"
      ],
      "metadata": {
        "id": "D-i3vYoEsaxQ"
      }
    },
    {
      "cell_type": "code",
      "source": [
        "inertias = []\n",
        "mapping1 = {}\n",
        "mapping2 = {}\n",
        "K = range(1, 10)\n",
        "\n",
        "for k in K:\n",
        "\t# Building and fitting the model\n",
        "\tkmeanModel = KMeans(n_clusters=k).fit(x_pca)\n",
        "\tkmeanModel.fit(x_pca)\n",
        "\n",
        "\t\n",
        "\tinertias.append(kmeanModel.inertia_)\n",
        "\n",
        "\tmapping1[k] = sum(np.min(cdist(x_pca, kmeanModel.cluster_centers_,\n",
        "\t\t\t\t\t\t\t\t'euclidean'), axis=1)) / x_pca.shape[0]\n",
        "\tmapping2[k] = kmeanModel.inertia_\n"
      ],
      "metadata": {
        "id": "NsNTRZ-TscDE"
      },
      "execution_count": 396,
      "outputs": []
    },
    {
      "cell_type": "code",
      "source": [
        "#plotting inertia vs k values\n",
        "plt.plot(K, inertias, 'bx-')\n",
        "plt.xlabel('Values of K')\n",
        "plt.ylabel('Inertia')\n",
        "plt.title('The Elbow Method using Inertia')\n",
        "plt.show()"
      ],
      "metadata": {
        "colab": {
          "base_uri": "https://localhost:8080/",
          "height": 295
        },
        "id": "NTpvyzF-t3P-",
        "outputId": "ad494176-8ba9-4546-f60b-23b70b4c528a"
      },
      "execution_count": 397,
      "outputs": [
        {
          "output_type": "display_data",
          "data": {
            "image/png": "[encoded data removed]",
            "text/plain": [
              "<Figure size 432x288 with 1 Axes>"
            ]
          },
          "metadata": {
            "needs_background": "light"
          }
        }
      ]
    },
    {
      "cell_type": "code",
      "source": [
        "#using 3 clusters as graph starts becoming flat from k=3 in the elbow method\n",
        "kmeans = KMeans(n_clusters=3)"
      ],
      "metadata": {
        "id": "yfscv9CJo2zp"
      },
      "execution_count": 398,
      "outputs": []
    },
    {
      "cell_type": "code",
      "source": [
        "kmeans.fit(x_pca)"
      ],
      "metadata": {
        "colab": {
          "base_uri": "https://localhost:8080/"
        },
        "id": "otg6RHYApDpb",
        "outputId": "53f27ed9-73c0-49f3-dce3-0a1c58abbe10"
      },
      "execution_count": 399,
      "outputs": [
        {
          "output_type": "execute_result",
          "data": {
            "text/plain": [
              "KMeans(n_clusters=3)"
            ]
          },
          "metadata": {},
          "execution_count": 399
        }
      ]
    },
    {
      "cell_type": "code",
      "source": [
        "kmeans.labels_"
      ],
      "metadata": {
        "colab": {
          "base_uri": "https://localhost:8080/"
        },
        "id": "xutiTe4dpQne",
        "outputId": "44dda74b-19a5-4df8-9f62-33daf67cc307"
      },
      "execution_count": 400,
      "outputs": [
        {
          "output_type": "execute_result",
          "data": {
            "text/plain": [
              "array([0, 1, 1, 0, 1, 1, 1, 2, 2, 1, 1, 2, 1, 1, 1, 2, 1, 0, 1, 1, 1, 1,\n",
              "       1, 2, 1, 0, 0, 1, 0, 2, 1, 0, 0, 1, 1, 1, 0, 0, 0, 1, 0, 1, 2, 2,\n",
              "       2, 1, 1, 1, 1, 0, 0, 2, 1, 2, 2, 0, 0, 1, 2, 0, 2, 1, 1, 0, 0, 1,\n",
              "       0, 2, 2, 1, 1, 1, 0, 2, 1, 2, 1, 2, 1, 1, 0, 0, 2, 1, 0, 1, 1, 0,\n",
              "       0, 1, 1, 2, 1, 0, 0, 1, 1, 0, 2, 0, 1, 1, 1, 1, 1, 1, 0, 1, 0, 1,\n",
              "       2, 2, 0, 0, 2, 1, 0, 1, 1, 1, 1, 1, 2, 2, 1, 1, 0, 1, 1, 0, 1, 2,\n",
              "       0, 2, 2, 2, 0, 1, 2, 2, 1, 1, 0, 1, 2, 2, 1, 0, 1, 0, 0, 1, 1, 1,\n",
              "       1, 0, 1, 2, 2, 2, 1, 1, 1, 1, 1, 0, 0], dtype=int32)"
            ]
          },
          "metadata": {},
          "execution_count": 400
        }
      ]
    },
    {
      "cell_type": "code",
      "source": [
        "#identifying the cluster centers\n",
        "clusters = kmeans.cluster_centers_"
      ],
      "metadata": {
        "id": "aSSsx7CWpqgM"
      },
      "execution_count": 401,
      "outputs": []
    },
    {
      "cell_type": "code",
      "source": [
        "clusters"
      ],
      "metadata": {
        "colab": {
          "base_uri": "https://localhost:8080/"
        },
        "id": "_D_hMd8vpv00",
        "outputId": "7a404e38-9f2c-4fdd-aa20-25dfa007e3ff"
      },
      "execution_count": 402,
      "outputs": [
        {
          "output_type": "execute_result",
          "data": {
            "text/plain": [
              "array([[-0.50242118,  0.09786908],\n",
              "       [ 0.06854311, -0.11872492],\n",
              "       [ 0.45848149,  0.14084711]])"
            ]
          },
          "metadata": {},
          "execution_count": 402
        }
      ]
    },
    {
      "cell_type": "code",
      "source": [
        "y_km = kmeans.fit_predict(x_pca)"
      ],
      "metadata": {
        "id": "f22sZtDhp_et"
      },
      "execution_count": 403,
      "outputs": []
    },
    {
      "cell_type": "code",
      "source": [
        "#plotting the kmeans clusters for visualization\n",
        "plt.scatter(x_pca[y_km == 0,0], x_pca[y_km == 0,1], color='red')\n",
        "plt.scatter(x_pca[y_km == 1,0], x_pca[y_km == 1,1], color='cyan')\n",
        "plt.scatter(x_pca[y_km == 2,0], x_pca[y_km == 2,1], color='orange')\n",
        "\n",
        "plt.scatter(clusters[0][0], clusters[0][1], marker='*', s=100, color='black')\n",
        "plt.scatter(clusters[1][0], clusters[1][1], marker='*', s=100, color='black')\n",
        "plt.scatter(clusters[2][0], clusters[2][1], marker='*', s=100, color='black')"
      ],
      "metadata": {
        "colab": {
          "base_uri": "https://localhost:8080/",
          "height": 282
        },
        "id": "UDEsuv3-qJAk",
        "outputId": "95f4c9ad-3595-4736-90cb-1e39539d1a32"
      },
      "execution_count": 404,
      "outputs": [
        {
          "output_type": "execute_result",
          "data": {
            "text/plain": [
              "<matplotlib.collections.PathCollection at 0x7f37a43b1150>"
            ]
          },
          "metadata": {},
          "execution_count": 404
        },
        {
          "output_type": "display_data",
          "data": {
            "image/png": "[encoded data removed]",
            "text/plain": [
              "<Figure size 432x288 with 1 Axes>"
            ]
          },
          "metadata": {
            "needs_background": "light"
          }
        }
      ]
    },
    {
      "cell_type": "code",
      "source": [
        "silhouette_score(x_pca, y_km)"
      ],
      "metadata": {
        "colab": {
          "base_uri": "https://localhost:8080/"
        },
        "id": "y2NR3bOgxTtQ",
        "outputId": "2f022c06-879a-4376-d543-b45530beee28"
      },
      "execution_count": 405,
      "outputs": [
        {
          "output_type": "execute_result",
          "data": {
            "text/plain": [
              "0.5004169444996961"
            ]
          },
          "metadata": {},
          "execution_count": 405
        }
      ]
    }
  ]
}